{
 "cells": [
  {
   "cell_type": "markdown",
   "metadata": {},
   "source": [
    "### This notebook loads in the markers found by Seurat and Conos, and finds the overlapping markers. The results are stored as a dictionary, and saved in the file \"overlap_markers.pkl\"."
   ]
  },
  {
   "cell_type": "code",
   "execution_count": 1,
   "metadata": {},
   "outputs": [],
   "source": [
    "import pandas as pd"
   ]
  },
  {
   "cell_type": "markdown",
   "metadata": {},
   "source": [
    "### 1. Create a list containing markers for each cluster from the result of Seurat\n",
    "#### Tried top 5, 20 markers: too few markers; too few overlaps, also hard to break ties when matching clusters"
   ]
  },
  {
   "cell_type": "code",
   "execution_count": 2,
   "metadata": {},
   "outputs": [],
   "source": [
    "seurat_markers = pd.read_csv(\"/Users/Miko/Downloads/6.10.top50.all.markers.txt\", sep=\"\\t\")"
   ]
  },
  {
   "cell_type": "code",
   "execution_count": 3,
   "metadata": {
    "scrolled": false
   },
   "outputs": [
    {
     "data": {
      "text/html": [
       "<div>\n",
       "<style scoped>\n",
       "    .dataframe tbody tr th:only-of-type {\n",
       "        vertical-align: middle;\n",
       "    }\n",
       "\n",
       "    .dataframe tbody tr th {\n",
       "        vertical-align: top;\n",
       "    }\n",
       "\n",
       "    .dataframe thead th {\n",
       "        text-align: right;\n",
       "    }\n",
       "</style>\n",
       "<table border=\"1\" class=\"dataframe\">\n",
       "  <thead>\n",
       "    <tr style=\"text-align: right;\">\n",
       "      <th></th>\n",
       "      <th>p_val</th>\n",
       "      <th>avg_logFC</th>\n",
       "      <th>pct.1</th>\n",
       "      <th>pct.2</th>\n",
       "      <th>p_val_adj</th>\n",
       "      <th>cluster</th>\n",
       "      <th>gene</th>\n",
       "    </tr>\n",
       "  </thead>\n",
       "  <tbody>\n",
       "    <tr>\n",
       "      <th>1</th>\n",
       "      <td>3.921717e-219</td>\n",
       "      <td>0.716535</td>\n",
       "      <td>0.501</td>\n",
       "      <td>0.236</td>\n",
       "      <td>8.308158e-215</td>\n",
       "      <td>0</td>\n",
       "      <td>ADAM19</td>\n",
       "    </tr>\n",
       "    <tr>\n",
       "      <th>2</th>\n",
       "      <td>9.852066e-218</td>\n",
       "      <td>0.432682</td>\n",
       "      <td>0.666</td>\n",
       "      <td>0.399</td>\n",
       "      <td>2.087160e-213</td>\n",
       "      <td>0</td>\n",
       "      <td>CD69</td>\n",
       "    </tr>\n",
       "    <tr>\n",
       "      <th>3</th>\n",
       "      <td>1.749252e-207</td>\n",
       "      <td>0.535057</td>\n",
       "      <td>0.551</td>\n",
       "      <td>0.311</td>\n",
       "      <td>3.705791e-203</td>\n",
       "      <td>0</td>\n",
       "      <td>STOM</td>\n",
       "    </tr>\n",
       "    <tr>\n",
       "      <th>4</th>\n",
       "      <td>1.022752e-200</td>\n",
       "      <td>0.600771</td>\n",
       "      <td>0.524</td>\n",
       "      <td>0.265</td>\n",
       "      <td>2.166700e-196</td>\n",
       "      <td>0</td>\n",
       "      <td>CXCR6</td>\n",
       "    </tr>\n",
       "    <tr>\n",
       "      <th>5</th>\n",
       "      <td>3.090406e-188</td>\n",
       "      <td>1.053567</td>\n",
       "      <td>0.303</td>\n",
       "      <td>0.083</td>\n",
       "      <td>6.547024e-184</td>\n",
       "      <td>0</td>\n",
       "      <td>ITGA1</td>\n",
       "    </tr>\n",
       "  </tbody>\n",
       "</table>\n",
       "</div>"
      ],
      "text/plain": [
       "           p_val  avg_logFC  pct.1  pct.2      p_val_adj  cluster    gene\n",
       "1  3.921717e-219   0.716535  0.501  0.236  8.308158e-215        0  ADAM19\n",
       "2  9.852066e-218   0.432682  0.666  0.399  2.087160e-213        0    CD69\n",
       "3  1.749252e-207   0.535057  0.551  0.311  3.705791e-203        0    STOM\n",
       "4  1.022752e-200   0.600771  0.524  0.265  2.166700e-196        0   CXCR6\n",
       "5  3.090406e-188   1.053567  0.303  0.083  6.547024e-184        0   ITGA1"
      ]
     },
     "execution_count": 3,
     "metadata": {},
     "output_type": "execute_result"
    }
   ],
   "source": [
    "seurat_markers.head()"
   ]
  },
  {
   "cell_type": "code",
   "execution_count": 4,
   "metadata": {},
   "outputs": [
    {
     "data": {
      "text/plain": [
       "(645, 7)"
      ]
     },
     "execution_count": 4,
     "metadata": {},
     "output_type": "execute_result"
    }
   ],
   "source": [
    "seurat_markers.shape"
   ]
  },
  {
   "cell_type": "code",
   "execution_count": 5,
   "metadata": {},
   "outputs": [],
   "source": [
    "# test\n",
    "seurat_cluster1_markers = list(seurat_markers[seurat_markers[\"cluster\"] == 0][\"gene\"])"
   ]
  },
  {
   "cell_type": "code",
   "execution_count": 6,
   "metadata": {},
   "outputs": [],
   "source": [
    "# a list, each element is the markers in one cluster\n",
    "list_seurat_markers = [ list(seurat_markers[seurat_markers[\"cluster\"] == i][\"gene\"]) \n",
    "                       for i in range(14)] "
   ]
  },
  {
   "cell_type": "markdown",
   "metadata": {},
   "source": [
    "### 2. Create a list containing markers for each cluster from the result of Conos"
   ]
  },
  {
   "cell_type": "code",
   "execution_count": 7,
   "metadata": {},
   "outputs": [],
   "source": [
    "cluster_num = [\"01\", \"02\", \"03\", \"04\", \"05\", \"06\", \"07\", \"08\", \"09\", \"10\", \"11\", \"12\", \"13\", \"14\"]\n"
   ]
  },
  {
   "cell_type": "code",
   "execution_count": 8,
   "metadata": {},
   "outputs": [],
   "source": [
    "# a list, each element is the markers in one cluster\n",
    "list_conos_markers = []\n",
    "\n",
    "for i in range(14):\n",
    "    conos_cluster = pd.read_csv(\"/Users/Miko/Downloads/3_Sample_Cluster_Markers/Cluster.\"+cluster_num[i], \n",
    "                                 sep=\"\\t\", \n",
    "                                 skiprows=1) # skip the first row: indicating cluster 1\n",
    "   \n",
    "    # take the top 5 markers (ranked by Z score)\n",
    "    conos_cluster_markers = list(conos_cluster[\"Gene\"])[:50] \n",
    "    list_conos_markers.append(conos_cluster_markers)\n",
    "    "
   ]
  },
  {
   "cell_type": "code",
   "execution_count": 10,
   "metadata": {},
   "outputs": [
    {
     "data": {
      "text/plain": [
       "50"
      ]
     },
     "execution_count": 10,
     "metadata": {},
     "output_type": "execute_result"
    }
   ],
   "source": [
    "len(list_conos_markers[0])"
   ]
  },
  {
   "cell_type": "markdown",
   "metadata": {},
   "source": [
    "### 3. Find intersection of markers\n",
    "#### Iterate through Seurat clusters, find the clusters in Conos that has the largest number of overlapping markers with each Seurat cluster.\n",
    "#### Then split the ties by matching the clusters that share the most number of overlapping markers."
   ]
  },
  {
   "cell_type": "code",
   "execution_count": 11,
   "metadata": {},
   "outputs": [],
   "source": [
    "def intersection(lst1, lst2): \n",
    "    return list(set(lst1) & set(lst2)) "
   ]
  },
  {
   "cell_type": "code",
   "execution_count": 12,
   "metadata": {},
   "outputs": [
    {
     "name": "stdout",
     "output_type": "stream",
     "text": [
      "0\n",
      "19\n",
      "8\n",
      "0\n",
      "0\n",
      "1\n",
      "0\n",
      "14\n",
      "0\n",
      "2\n",
      "1\n",
      "0\n",
      "0\n",
      "4\n"
     ]
    }
   ],
   "source": [
    "# IF, we find overlapping markers just by comparing the same cluster index across two results\n",
    "for i in range(14):\n",
    "    print( len(intersection(list_conos_markers[i], list_seurat_markers[i])) )"
   ]
  },
  {
   "cell_type": "code",
   "execution_count": 13,
   "metadata": {},
   "outputs": [],
   "source": [
    "# input: markers for in one particular cluster, generated by Seurat\n",
    "# output: the matching cluster index (in conos), and the overlap markers\n",
    "def find_largest_overlaps(seurat_cluster_markers):\n",
    "    largest_overlaps = 0\n",
    "    matching_conos_clust_index = \"NA\"\n",
    "    overlapping_markers = []\n",
    "    for i in range(14):\n",
    "        if len(intersection(list_conos_markers[i], seurat_cluster_markers)) > largest_overlaps:\n",
    "            largest_overlaps = len(intersection(list_conos_markers[i], seurat_cluster_markers))\n",
    "            matching_conos_clust_index = i\n",
    "            overlapping_markers = intersection(list_conos_markers[i], seurat_cluster_markers)\n",
    "    return matching_conos_clust_index, overlapping_markers\n",
    "\n",
    "# ATTENTION: returning the cluster INDEX (one smaller), not the actual cluster number   "
   ]
  },
  {
   "cell_type": "code",
   "execution_count": 14,
   "metadata": {},
   "outputs": [],
   "source": [
    "def find_all_overlaps(list_markers):\n",
    "    # key/value -- Seurat cluster number: [matching conos cluster index, list of overlap markers]\n",
    "    overlap_dict = {}\n",
    "    \n",
    "    for i in range(14):\n",
    "        conos_clust_index, overlap_markers = find_largest_overlaps(list_seurat_markers[i])\n",
    "        overlap_dict[i] = [conos_clust_index, overlap_markers]\n",
    "    \n",
    "    return overlap_dict"
   ]
  },
  {
   "cell_type": "code",
   "execution_count": 15,
   "metadata": {},
   "outputs": [],
   "source": [
    "overlap_dict = find_all_overlaps(list_seurat_markers)"
   ]
  },
  {
   "cell_type": "code",
   "execution_count": 16,
   "metadata": {},
   "outputs": [
    {
     "data": {
      "text/plain": [
       "dict_keys([0, 1, 2, 3, 4, 5, 6, 7, 8, 9, 10, 11, 12, 13])"
      ]
     },
     "execution_count": 16,
     "metadata": {},
     "output_type": "execute_result"
    }
   ],
   "source": [
    "overlap_dict.keys()"
   ]
  },
  {
   "cell_type": "code",
   "execution_count": 17,
   "metadata": {},
   "outputs": [
    {
     "data": {
      "text/plain": [
       "[4, 1, 3, 4, 0, 1, 8, 7, 3, 6, 12, 12, 13, 9]"
      ]
     },
     "execution_count": 17,
     "metadata": {},
     "output_type": "execute_result"
    }
   ],
   "source": [
    "[overlap_dict[i][0] for i in range(14)]"
   ]
  },
  {
   "cell_type": "code",
   "execution_count": 18,
   "metadata": {},
   "outputs": [
    {
     "data": {
      "text/plain": [
       "[14, 19, 27, 2, 19, 3, 15, 14, 10, 8, 4, 3, 3, 6]"
      ]
     },
     "execution_count": 18,
     "metadata": {},
     "output_type": "execute_result"
    }
   ],
   "source": [
    "[len(overlap_dict[i][1]) for i in range(14)]"
   ]
  },
  {
   "cell_type": "code",
   "execution_count": null,
   "metadata": {},
   "outputs": [],
   "source": []
  },
  {
   "cell_type": "markdown",
   "metadata": {},
   "source": [
    "### Found overlap markers between the results from Seurat vs. Conos, and assign the matching clusters based on the largest overlaps."
   ]
  },
  {
   "cell_type": "code",
   "execution_count": 19,
   "metadata": {},
   "outputs": [],
   "source": [
    "# input: markers for in one particular cluster, generated by Seurat\n",
    "# output: the matching cluster index (in conos), and the overlap markers\n",
    "def remaining_clusters_find_largest_overlaps(seurat_cluster_markers):\n",
    "    largest_overlaps = 0\n",
    "    matching_conos_clust_index = \"NA\"\n",
    "    overlapping_markers = []\n",
    "    for i in [2,5,10,11]:\n",
    "        if len(intersection(list_conos_markers[i], seurat_cluster_markers)) > largest_overlaps:\n",
    "            largest_overlaps = len(intersection(list_conos_markers[i], seurat_cluster_markers))\n",
    "            matching_conos_clust_index = i\n",
    "            overlapping_markers = intersection(list_conos_markers[i], seurat_cluster_markers)\n",
    "    return matching_conos_clust_index, overlapping_markers\n",
    "\n",
    "# ATTENTION: returning the cluster INDEX (one smaller), not the actual cluster number   "
   ]
  },
  {
   "cell_type": "code",
   "execution_count": 20,
   "metadata": {},
   "outputs": [],
   "source": [
    "def remaining_clusters_find_all_overlaps(list_markers):\n",
    "    # key/value -- Seurat cluster number: [matching conos cluster index, list of overlap markers]\n",
    "    overlap_dict = {}\n",
    "    \n",
    "    for i in [3,5,8,11]:\n",
    "        conos_clust_index, overlap_markers = remaining_clusters_find_largest_overlaps(list_seurat_markers[i])\n",
    "        overlap_dict[i] = [conos_clust_index, overlap_markers]\n",
    "    \n",
    "    return overlap_dict"
   ]
  },
  {
   "cell_type": "code",
   "execution_count": 21,
   "metadata": {},
   "outputs": [],
   "source": [
    "remaining_overlap_dict = remaining_clusters_find_all_overlaps(list_seurat_markers)"
   ]
  },
  {
   "cell_type": "code",
   "execution_count": 22,
   "metadata": {},
   "outputs": [
    {
     "data": {
      "text/plain": [
       "dict_keys([3, 5, 8, 11])"
      ]
     },
     "execution_count": 22,
     "metadata": {},
     "output_type": "execute_result"
    }
   ],
   "source": [
    "remaining_overlap_dict.keys()"
   ]
  },
  {
   "cell_type": "code",
   "execution_count": 23,
   "metadata": {},
   "outputs": [
    {
     "data": {
      "text/plain": [
       "[11, 11, 2, 'NA']"
      ]
     },
     "execution_count": 23,
     "metadata": {},
     "output_type": "execute_result"
    }
   ],
   "source": [
    "[remaining_overlap_dict[i][0] for i in [3,5,8,11]]"
   ]
  },
  {
   "cell_type": "code",
   "execution_count": 24,
   "metadata": {},
   "outputs": [
    {
     "data": {
      "text/plain": [
       "[1, 3, 4, 0]"
      ]
     },
     "execution_count": 24,
     "metadata": {},
     "output_type": "execute_result"
    }
   ],
   "source": [
    "[len(remaining_overlap_dict[i][1]) for i in [3,5,8,11]]"
   ]
  },
  {
   "cell_type": "code",
   "execution_count": null,
   "metadata": {},
   "outputs": [],
   "source": []
  },
  {
   "cell_type": "code",
   "execution_count": 25,
   "metadata": {},
   "outputs": [],
   "source": [
    "# input: markers for in one particular cluster, generated by Seurat\n",
    "# output: the matching cluster index (in conos), and the overlap markers\n",
    "def last_remaining_clusters_find_largest_overlaps(seurat_cluster_markers):\n",
    "    largest_overlaps = 0\n",
    "    matching_conos_clust_index = \"NA\"\n",
    "    overlapping_markers = []\n",
    "    for i in [5,10]:\n",
    "        if len(intersection(list_conos_markers[i], seurat_cluster_markers)) > largest_overlaps:\n",
    "            largest_overlaps = len(intersection(list_conos_markers[i], seurat_cluster_markers))\n",
    "            matching_conos_clust_index = i\n",
    "            overlapping_markers = intersection(list_conos_markers[i], seurat_cluster_markers)\n",
    "    return matching_conos_clust_index, overlapping_markers\n",
    "\n",
    "# ATTENTION: returning the cluster INDEX (one smaller), not the actual cluster number   "
   ]
  },
  {
   "cell_type": "code",
   "execution_count": 26,
   "metadata": {},
   "outputs": [],
   "source": [
    "def last_remaining_clusters_find_all_overlaps(list_markers):\n",
    "    # key/value -- Seurat cluster number: [matching conos cluster index, list of overlap markers]\n",
    "    overlap_dict = {}\n",
    "    \n",
    "    for i in [3,11]:\n",
    "        conos_clust_index, overlap_markers = last_remaining_clusters_find_largest_overlaps(list_seurat_markers[i])\n",
    "        overlap_dict[i] = [conos_clust_index, overlap_markers]\n",
    "    \n",
    "    return overlap_dict"
   ]
  },
  {
   "cell_type": "code",
   "execution_count": 27,
   "metadata": {},
   "outputs": [],
   "source": [
    "last_remaining_overlap_dict = last_remaining_clusters_find_all_overlaps(list_seurat_markers)"
   ]
  },
  {
   "cell_type": "code",
   "execution_count": 28,
   "metadata": {},
   "outputs": [
    {
     "data": {
      "text/plain": [
       "dict_keys([3, 11])"
      ]
     },
     "execution_count": 28,
     "metadata": {},
     "output_type": "execute_result"
    }
   ],
   "source": [
    "last_remaining_overlap_dict.keys()"
   ]
  },
  {
   "cell_type": "code",
   "execution_count": 30,
   "metadata": {},
   "outputs": [
    {
     "data": {
      "text/plain": [
       "['NA', 'NA']"
      ]
     },
     "execution_count": 30,
     "metadata": {},
     "output_type": "execute_result"
    }
   ],
   "source": [
    "[last_remaining_overlap_dict[i][0] for i in [3,11]]"
   ]
  },
  {
   "cell_type": "code",
   "execution_count": 31,
   "metadata": {},
   "outputs": [
    {
     "data": {
      "text/plain": [
       "[0, 0]"
      ]
     },
     "execution_count": 31,
     "metadata": {},
     "output_type": "execute_result"
    }
   ],
   "source": [
    "[len(last_remaining_overlap_dict[i][1]) for i in [3,11]]"
   ]
  },
  {
   "cell_type": "code",
   "execution_count": null,
   "metadata": {},
   "outputs": [],
   "source": []
  },
  {
   "cell_type": "markdown",
   "metadata": {},
   "source": [
    "### Showing number of overlapping markers between the matching clusters\n",
    "\n",
    "#### Note: the key indicates Seurat cluster number, and the first element in each value indicates Conos cluster INDEX. For example, you see {0: [4, [] }, meaning Seurat cluster 0 corresponds to Conos cluster INDEX 4 (Cluster 5). "
   ]
  },
  {
   "cell_type": "code",
   "execution_count": 33,
   "metadata": {},
   "outputs": [],
   "source": [
    "for key in remaining_overlap_dict:\n",
    "    overlap_dict[key] = remaining_overlap_dict[key]"
   ]
  },
  {
   "cell_type": "code",
   "execution_count": 34,
   "metadata": {},
   "outputs": [],
   "source": [
    "for key in last_remaining_overlap_dict:\n",
    "    overlap_dict[key] = last_remaining_overlap_dict[key]"
   ]
  },
  {
   "cell_type": "code",
   "execution_count": 35,
   "metadata": {},
   "outputs": [
    {
     "data": {
      "text/plain": [
       "[4, 1, 3, 'NA', 0, 11, 8, 7, 2, 6, 12, 'NA', 13, 9]"
      ]
     },
     "execution_count": 35,
     "metadata": {},
     "output_type": "execute_result"
    }
   ],
   "source": [
    "[overlap_dict[i][0] for i in range(14)]"
   ]
  },
  {
   "cell_type": "code",
   "execution_count": 40,
   "metadata": {},
   "outputs": [
    {
     "data": {
      "text/plain": [
       "{0: [4,\n",
       "  ['BHLHE40',\n",
       "   'PTGER4',\n",
       "   'CD69',\n",
       "   'STOM',\n",
       "   'ARHGAP18',\n",
       "   'CXCR3',\n",
       "   'CXCR6',\n",
       "   'IFI44',\n",
       "   'GPR171',\n",
       "   'CD40LG',\n",
       "   'ADAM19',\n",
       "   'JAML',\n",
       "   'CAPG',\n",
       "   'LINC00892']],\n",
       " 1: [1,\n",
       "  ['LINC00861',\n",
       "   'SERINC5',\n",
       "   'PRKCQ-AS1',\n",
       "   'MAL',\n",
       "   'CCR7',\n",
       "   'SATB1',\n",
       "   'LDLRAP1',\n",
       "   'RASGRP2',\n",
       "   'TXK',\n",
       "   'LEF1',\n",
       "   'NOSIP',\n",
       "   'ABLIM1',\n",
       "   'TRABD2A',\n",
       "   'LEF1-AS1',\n",
       "   'ACTN1',\n",
       "   'MYC',\n",
       "   'SELL',\n",
       "   'TCF7',\n",
       "   'EEF1G']],\n",
       " 2: [3,\n",
       "  ['KLRG1',\n",
       "   'C1orf21',\n",
       "   'PRSS23',\n",
       "   'TBX21',\n",
       "   'ADGRG1',\n",
       "   'CX3CR1',\n",
       "   'FCGR3A',\n",
       "   'FCRL6',\n",
       "   'FGR',\n",
       "   'A2M',\n",
       "   'ZEB2-AS1',\n",
       "   'PLEK',\n",
       "   'PATL2',\n",
       "   'GZMB',\n",
       "   'TGFBR3',\n",
       "   'S1PR5',\n",
       "   'EFHD2',\n",
       "   'ADRB2',\n",
       "   'PRF1',\n",
       "   'FCGR3B',\n",
       "   'GZMH',\n",
       "   'FGFBP2',\n",
       "   'KLRD1',\n",
       "   'SLAMF7',\n",
       "   'ZEB2',\n",
       "   'GNLY',\n",
       "   'NKG7']],\n",
       " 3: ['NA', []],\n",
       " 4: [0,\n",
       "  ['CCR8',\n",
       "   'TNFRSF18',\n",
       "   'MIR4632',\n",
       "   'ICOS',\n",
       "   'LAYN',\n",
       "   'TNFRSF4',\n",
       "   'DUSP4',\n",
       "   'LAIR2',\n",
       "   'TNFRSF9',\n",
       "   'VDR',\n",
       "   'CTLA4',\n",
       "   'IL2RA',\n",
       "   'BATF',\n",
       "   'FOXP3',\n",
       "   'ENTPD1',\n",
       "   'SDC4',\n",
       "   'IL1R2',\n",
       "   'TYMP',\n",
       "   'F5']],\n",
       " 5: [11, ['EEF1A1', 'EEF1B2', 'TPT1']],\n",
       " 6: [8,\n",
       "  ['TBC1D4',\n",
       "   'NABP1',\n",
       "   'CTLA4',\n",
       "   'FCMR',\n",
       "   'IL2RA',\n",
       "   'ZC3H12D',\n",
       "   'RTKN2',\n",
       "   'FOXP3',\n",
       "   'CCR4',\n",
       "   'IL6R',\n",
       "   'STAM',\n",
       "   'PIM2',\n",
       "   'NCF4',\n",
       "   'CD28',\n",
       "   'F5']],\n",
       " 7: [7,\n",
       "  ['KLRC4',\n",
       "   'CCL3L3',\n",
       "   'PDCD1',\n",
       "   'HAVCR2',\n",
       "   'ITGAE',\n",
       "   'FASLG',\n",
       "   'CCL4',\n",
       "   'IFNG',\n",
       "   'CCL3',\n",
       "   'GZMB',\n",
       "   'CXCL13',\n",
       "   'LAG3',\n",
       "   'ITGA1',\n",
       "   'CCL3L1']],\n",
       " 8: [2, ['SLAMF7', 'KLRD1', 'NKG7', 'GZMH']],\n",
       " 9: [6,\n",
       "  ['ADRB2', 'KLRG1', 'A2M', 'PZP', 'LINC00612', 'PARP8', 'IL7R', 'MYBL1']],\n",
       " 10: [12, ['MYO7A', 'CXCL13', 'CTLA4', 'DUSP4']],\n",
       " 11: ['NA', []],\n",
       " 12: [13, ['TAPT1-AS1', 'SLC47A1', 'CUL9']],\n",
       " 13: [9, ['GPR183', 'TXNIP', 'TCF7', 'IL7R', 'KLF2', 'INPP4B']]}"
      ]
     },
     "execution_count": 40,
     "metadata": {},
     "output_type": "execute_result"
    }
   ],
   "source": [
    "overlap_dict"
   ]
  },
  {
   "cell_type": "code",
   "execution_count": 46,
   "metadata": {},
   "outputs": [],
   "source": [
    "import pickle"
   ]
  },
  {
   "cell_type": "code",
   "execution_count": 47,
   "metadata": {},
   "outputs": [],
   "source": [
    "def save_obj(obj, name):\n",
    "    with open(name + '.pkl', 'wb') as f:\n",
    "        pickle.dump(obj, f, pickle.HIGHEST_PROTOCOL)"
   ]
  },
  {
   "cell_type": "code",
   "execution_count": 48,
   "metadata": {},
   "outputs": [],
   "source": [
    "save_obj(overlap_dict, 'overlap_markers')"
   ]
  },
  {
   "cell_type": "code",
   "execution_count": 49,
   "metadata": {},
   "outputs": [],
   "source": [
    "def load_obj(name):\n",
    "    with open(name + '.pkl', 'rb') as f:\n",
    "        return pickle.load(f)"
   ]
  },
  {
   "cell_type": "code",
   "execution_count": 51,
   "metadata": {},
   "outputs": [
    {
     "data": {
      "text/plain": [
       "['ADAM19',\n",
       " 'CD69',\n",
       " 'STOM',\n",
       " 'CXCR6',\n",
       " 'ITGA1',\n",
       " 'GZMK',\n",
       " 'CAPG',\n",
       " 'GPR171',\n",
       " 'CXCR3',\n",
       " 'EMB',\n",
       " 'SKIL',\n",
       " 'F2R',\n",
       " 'JAML',\n",
       " 'ADGRE5',\n",
       " 'ITGAE',\n",
       " 'MIR4680',\n",
       " 'TBCD',\n",
       " 'AOAH',\n",
       " 'SYTL2',\n",
       " 'PDE4B',\n",
       " 'PELO',\n",
       " 'SLF1',\n",
       " 'PTGER4',\n",
       " 'LINC00892',\n",
       " 'BHLHE40',\n",
       " 'ARHGAP18',\n",
       " 'ITM2C',\n",
       " 'GLUL',\n",
       " 'DPP4',\n",
       " 'IFNGR1',\n",
       " 'IFI44',\n",
       " 'TNFSF14',\n",
       " 'GAB3',\n",
       " 'ARHGAP35',\n",
       " 'RUNX2',\n",
       " 'FOSB',\n",
       " 'CD40LG',\n",
       " 'PDE4DIP',\n",
       " 'GYG1',\n",
       " 'ANKRD28',\n",
       " 'FMNL3',\n",
       " 'PPP1R16B',\n",
       " 'PDE4D',\n",
       " 'LRRC75A',\n",
       " 'ANAPC1P1',\n",
       " 'IL4I1',\n",
       " 'ANKRD11',\n",
       " 'GAS5-AS1',\n",
       " 'PPDPF',\n",
       " 'IFITM3']"
      ]
     },
     "execution_count": 51,
     "metadata": {},
     "output_type": "execute_result"
    }
   ],
   "source": [
    "list_seurat_markers[0]"
   ]
  },
  {
   "cell_type": "code",
   "execution_count": 50,
   "metadata": {},
   "outputs": [
    {
     "data": {
      "text/plain": [
       "{0: [4,\n",
       "  ['BHLHE40',\n",
       "   'PTGER4',\n",
       "   'CD69',\n",
       "   'STOM',\n",
       "   'ARHGAP18',\n",
       "   'CXCR3',\n",
       "   'CXCR6',\n",
       "   'IFI44',\n",
       "   'GPR171',\n",
       "   'CD40LG',\n",
       "   'ADAM19',\n",
       "   'JAML',\n",
       "   'CAPG',\n",
       "   'LINC00892']],\n",
       " 1: [1,\n",
       "  ['LINC00861',\n",
       "   'SERINC5',\n",
       "   'PRKCQ-AS1',\n",
       "   'MAL',\n",
       "   'CCR7',\n",
       "   'SATB1',\n",
       "   'LDLRAP1',\n",
       "   'RASGRP2',\n",
       "   'TXK',\n",
       "   'LEF1',\n",
       "   'NOSIP',\n",
       "   'ABLIM1',\n",
       "   'TRABD2A',\n",
       "   'LEF1-AS1',\n",
       "   'ACTN1',\n",
       "   'MYC',\n",
       "   'SELL',\n",
       "   'TCF7',\n",
       "   'EEF1G']],\n",
       " 2: [3,\n",
       "  ['KLRG1',\n",
       "   'C1orf21',\n",
       "   'PRSS23',\n",
       "   'TBX21',\n",
       "   'ADGRG1',\n",
       "   'CX3CR1',\n",
       "   'FCGR3A',\n",
       "   'FCRL6',\n",
       "   'FGR',\n",
       "   'A2M',\n",
       "   'ZEB2-AS1',\n",
       "   'PLEK',\n",
       "   'PATL2',\n",
       "   'GZMB',\n",
       "   'TGFBR3',\n",
       "   'S1PR5',\n",
       "   'EFHD2',\n",
       "   'ADRB2',\n",
       "   'PRF1',\n",
       "   'FCGR3B',\n",
       "   'GZMH',\n",
       "   'FGFBP2',\n",
       "   'KLRD1',\n",
       "   'SLAMF7',\n",
       "   'ZEB2',\n",
       "   'GNLY',\n",
       "   'NKG7']],\n",
       " 3: ['NA', []],\n",
       " 4: [0,\n",
       "  ['CCR8',\n",
       "   'TNFRSF18',\n",
       "   'MIR4632',\n",
       "   'ICOS',\n",
       "   'LAYN',\n",
       "   'TNFRSF4',\n",
       "   'DUSP4',\n",
       "   'LAIR2',\n",
       "   'TNFRSF9',\n",
       "   'VDR',\n",
       "   'CTLA4',\n",
       "   'IL2RA',\n",
       "   'BATF',\n",
       "   'FOXP3',\n",
       "   'ENTPD1',\n",
       "   'SDC4',\n",
       "   'IL1R2',\n",
       "   'TYMP',\n",
       "   'F5']],\n",
       " 5: [11, ['EEF1A1', 'EEF1B2', 'TPT1']],\n",
       " 6: [8,\n",
       "  ['TBC1D4',\n",
       "   'NABP1',\n",
       "   'CTLA4',\n",
       "   'FCMR',\n",
       "   'IL2RA',\n",
       "   'ZC3H12D',\n",
       "   'RTKN2',\n",
       "   'FOXP3',\n",
       "   'CCR4',\n",
       "   'IL6R',\n",
       "   'STAM',\n",
       "   'PIM2',\n",
       "   'NCF4',\n",
       "   'CD28',\n",
       "   'F5']],\n",
       " 7: [7,\n",
       "  ['KLRC4',\n",
       "   'CCL3L3',\n",
       "   'PDCD1',\n",
       "   'HAVCR2',\n",
       "   'ITGAE',\n",
       "   'FASLG',\n",
       "   'CCL4',\n",
       "   'IFNG',\n",
       "   'CCL3',\n",
       "   'GZMB',\n",
       "   'CXCL13',\n",
       "   'LAG3',\n",
       "   'ITGA1',\n",
       "   'CCL3L1']],\n",
       " 8: [2, ['SLAMF7', 'KLRD1', 'NKG7', 'GZMH']],\n",
       " 9: [6,\n",
       "  ['ADRB2', 'KLRG1', 'A2M', 'PZP', 'LINC00612', 'PARP8', 'IL7R', 'MYBL1']],\n",
       " 10: [12, ['MYO7A', 'CXCL13', 'CTLA4', 'DUSP4']],\n",
       " 11: ['NA', []],\n",
       " 12: [13, ['TAPT1-AS1', 'SLC47A1', 'CUL9']],\n",
       " 13: [9, ['GPR183', 'TXNIP', 'TCF7', 'IL7R', 'KLF2', 'INPP4B']]}"
      ]
     },
     "execution_count": 50,
     "metadata": {},
     "output_type": "execute_result"
    }
   ],
   "source": [
    "load_obj('overlap_markers')"
   ]
  },
  {
   "cell_type": "code",
   "execution_count": null,
   "metadata": {},
   "outputs": [],
   "source": []
  }
 ],
 "metadata": {
  "kernelspec": {
   "display_name": "Python 3",
   "language": "python",
   "name": "python3"
  },
  "language_info": {
   "codemirror_mode": {
    "name": "ipython",
    "version": 3
   },
   "file_extension": ".py",
   "mimetype": "text/x-python",
   "name": "python",
   "nbconvert_exporter": "python",
   "pygments_lexer": "ipython3",
   "version": "3.6.4"
  }
 },
 "nbformat": 4,
 "nbformat_minor": 2
}
